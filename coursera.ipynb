{
  "metadata": {
    "kernelspec": {
      "name": "python",
      "display_name": "Python (Pyodide)",
      "language": "python"
    },
    "language_info": {
      "codemirror_mode": {
        "name": "python",
        "version": 3
      },
      "file_extension": ".py",
      "mimetype": "text/x-python",
      "name": "python",
      "nbconvert_exporter": "python",
      "pygments_lexer": "ipython3",
      "version": "3.8"
    }
  },
  "nbformat_minor": 4,
  "nbformat": 4,
  "cells": [
    {
      "cell_type": "markdown",
      "source": "# Title: Assessment\n",
      "metadata": {}
    },
    {
      "cell_type": "markdown",
      "source": "Introduction: Assessment by my peers in Coursera.",
      "metadata": {}
    },
    {
      "cell_type": "markdown",
      "source": "Languages for data science:\n- Python\n- Scala\n- R\n- ...",
      "metadata": {}
    },
    {
      "cell_type": "markdown",
      "source": "DataScience libraries:\n- Scikit\n- Pandas\n- NumPy\n- ...",
      "metadata": {}
    },
    {
      "cell_type": "markdown",
      "source": "Arithmetic expressions like: 1 + 1 = 2, 3 * 8 = 24",
      "metadata": {}
    },
    {
      "cell_type": "code",
      "source": "a = 1 + 2\nb = 3 * 8\nc = a + b\nc",
      "metadata": {
        "trusted": true
      },
      "outputs": [
        {
          "execution_count": 6,
          "output_type": "execute_result",
          "data": {
            "text/plain": "27"
          },
          "metadata": {}
        }
      ],
      "execution_count": 6
    },
    {
      "cell_type": "code",
      "source": "def minutes_to_hours(minutes: int) -> int:\n    return minutes / 60\nminutes_to_hours(60)",
      "metadata": {
        "trusted": true
      },
      "outputs": [
        {
          "execution_count": 8,
          "output_type": "execute_result",
          "data": {
            "text/plain": "1.0"
          },
          "metadata": {}
        }
      ],
      "execution_count": 8
    },
    {
      "cell_type": "markdown",
      "source": "### Objectives:\n- Understand the basics of Python programming\n- Learn how to manipulate data using Pandas\n- Visualize data using Matplotlib and Seaborn\n- Explore machine learning algorithms with Scikit-learn\n- Work with Natural Language Processing using NLTK\n",
      "metadata": {}
    },
    {
      "cell_type": "markdown",
      "source": "Author's name is Daan",
      "metadata": {}
    },
    {
      "cell_type": "code",
      "source": "",
      "metadata": {
        "trusted": true
      },
      "outputs": [],
      "execution_count": null
    }
  ]
}